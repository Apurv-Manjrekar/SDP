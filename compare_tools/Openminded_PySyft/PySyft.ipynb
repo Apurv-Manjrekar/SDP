{
 "cells": [
  {
   "cell_type": "code",
   "execution_count": 1,
   "metadata": {},
   "outputs": [],
   "source": [
    "import syft as sy\n",
    "import torch\n",
    "from torch import nn, optim\n",
    "from sklearn.datasets import make_classification\n",
    "from sklearn.model_selection import train_test_split\n",
    "from sklearn.metrics import accuracy_score\n",
    "import pandas as pd\n",
    "from sklearn.preprocessing import LabelEncoder\n"
   ]
  },
  {
   "cell_type": "code",
   "execution_count": 2,
   "metadata": {},
   "outputs": [
    {
     "name": "stdout",
     "output_type": "stream",
     "text": [
      "   age  education-num  hours-per-week  capital-gain  capital-loss  \\\n",
      "0   39             13              40          2174             0   \n",
      "1   50             13              13             0             0   \n",
      "2   38              9              40             0             0   \n",
      "3   53              7              40             0             0   \n",
      "4   28             13              40             0             0   \n",
      "\n",
      "   income_binary  \n",
      "0              0  \n",
      "1              0  \n",
      "2              0  \n",
      "3              0  \n",
      "4              0  \n",
      "(32561, 6)\n"
     ]
    }
   ],
   "source": [
    "def load_uci_adult_dataset():\n",
    "    url = \"https://archive.ics.uci.edu/ml/machine-learning-databases/adult/adult.data\"\n",
    "    columns = [\n",
    "        \"age\", \"workclass\", \"fnlwgt\", \"education\", \"education-num\", \"marital-status\", \n",
    "        \"occupation\", \"relationship\", \"race\", \"sex\", \"capital-gain\", \"capital-loss\", \n",
    "        \"hours-per-week\", \"native-country\", \"income\"\n",
    "    ]\n",
    "    data = pd.read_csv(url, header=None, names=columns, na_values=\" ?\", skipinitialspace=True)\n",
    "    data.dropna(inplace=True)\n",
    "\n",
    "    features = [\"age\", \"education-num\", \"hours-per-week\", \"capital-gain\", \"capital-loss\"]\n",
    "    target = \"income\"\n",
    "    data = data[features + [target]]\n",
    "\n",
    "    data[\"income_binary\"] = LabelEncoder().fit_transform(data[\"income\"])\n",
    "\n",
    "    data = data[features + [\"income_binary\"]]\n",
    "    \n",
    "    print(data.head())\n",
    "    print(data.shape)\n",
    "    \n",
    "    return data\n",
    "\n",
    "uci_data = load_uci_adult_dataset()"
   ]
  },
  {
   "cell_type": "code",
   "execution_count": 3,
   "metadata": {},
   "outputs": [],
   "source": [
    "# Split data into features and target\n",
    "X = uci_data.drop(columns=[\"income_binary\"]).values\n",
    "y = uci_data[\"income_binary\"].values\n",
    "\n",
    "# Split into training and test sets\n",
    "X_train, X_test, y_train, y_test = train_test_split(X, y, test_size=0.2, random_state=42)\n",
    "\n",
    "# Convert data to PyTorch tensors\n",
    "X_train, X_test = torch.tensor(X_train, dtype=torch.float32), torch.tensor(X_test, dtype=torch.float32)\n",
    "y_train, y_test = torch.tensor(y_train, dtype=torch.float32), torch.tensor(y_test, dtype=torch.float32)\n"
   ]
  },
  {
   "cell_type": "code",
   "execution_count": 4,
   "metadata": {},
   "outputs": [],
   "source": [
    "# Simulate two data holders by splitting the data\n",
    "X_train_part1, y_train_part1 = X_train[:len(X_train) // 2], y_train[:len(y_train) // 2]\n",
    "X_train_part2, y_train_part2 = X_train[len(X_train) // 2:], y_train[len(y_train) // 2:]\n"
   ]
  },
  {
   "cell_type": "code",
   "execution_count": 5,
   "metadata": {},
   "outputs": [],
   "source": [
    "class LogisticRegressionModel(nn.Module):\n",
    "    def __init__(self, input_dim):\n",
    "        super(LogisticRegressionModel, self).__init__()\n",
    "        self.linear = nn.Linear(input_dim, 1)\n",
    "    \n",
    "    def forward(self, x):\n",
    "        return torch.sigmoid(self.linear(x))\n",
    "\n",
    "# Initialize the model\n",
    "input_dim = X_train.shape[1]\n",
    "model = LogisticRegressionModel(input_dim)\n",
    "\n",
    "# Differential Privacy: Noise addition function\n",
    "def add_noise(tensor, epsilon=0.1):\n",
    "    noise = torch.normal(0, epsilon, tensor.size())\n",
    "    return tensor + noise\n",
    "\n"
   ]
  },
  {
   "cell_type": "code",
   "execution_count": 6,
   "metadata": {},
   "outputs": [
    {
     "name": "stdout",
     "output_type": "stream",
     "text": [
      "Training completed.\n",
      "Training completed.\n"
     ]
    }
   ],
   "source": [
    "def train_model(model, data, labels, epsilon=0.1, epochs=10):\n",
    "    optimizer = optim.SGD(model.parameters(), lr=0.01)\n",
    "    criterion = nn.BCELoss()\n",
    "\n",
    "    for epoch in range(epochs):\n",
    "        optimizer.zero_grad()\n",
    "        \n",
    "        # Forward pass\n",
    "        predictions = model(data).squeeze()\n",
    "        loss = criterion(predictions, labels)\n",
    "        \n",
    "        # Backward pass with differential privacy\n",
    "        loss.backward()\n",
    "        \n",
    "        # Add noise to gradients for differential privacy\n",
    "        for param in model.parameters():\n",
    "            param.grad = add_noise(param.grad, epsilon=epsilon)\n",
    "        \n",
    "        optimizer.step()\n",
    "\n",
    "    print(f\"Training completed.\")\n",
    "\n",
    "# Train model on each data partition\n",
    "train_model(model, X_train_part1, y_train_part1, epsilon=0.1, epochs=10)\n",
    "train_model(model, X_train_part2, y_train_part2, epsilon=0.1, epochs=10)\n",
    "\n"
   ]
  },
  {
   "cell_type": "code",
   "execution_count": 7,
   "metadata": {},
   "outputs": [
    {
     "name": "stdout",
     "output_type": "stream",
     "text": [
      "Model accuracy after differential privacy training: 26.72%\n"
     ]
    }
   ],
   "source": [
    "# Make predictions on the test set\n",
    "with torch.no_grad():\n",
    "    y_pred = model(X_test).squeeze()\n",
    "    y_pred = (y_pred > 0.5).float()  # Apply threshold for binary classification\n",
    "\n",
    "# Calculate accuracy\n",
    "accuracy = accuracy_score(y_test, y_pred)\n",
    "print(f\"Model accuracy after differential privacy training: {accuracy * 100:.2f}%\")\n",
    "\n"
   ]
  },
  {
   "cell_type": "code",
   "execution_count": null,
   "metadata": {},
   "outputs": [],
   "source": []
  }
 ],
 "metadata": {
  "kernelspec": {
   "display_name": "Python 3",
   "language": "python",
   "name": "python3"
  },
  "language_info": {
   "codemirror_mode": {
    "name": "ipython",
    "version": 3
   },
   "file_extension": ".py",
   "mimetype": "text/x-python",
   "name": "python",
   "nbconvert_exporter": "python",
   "pygments_lexer": "ipython3",
   "version": "3.11.0"
  }
 },
 "nbformat": 4,
 "nbformat_minor": 2
}
